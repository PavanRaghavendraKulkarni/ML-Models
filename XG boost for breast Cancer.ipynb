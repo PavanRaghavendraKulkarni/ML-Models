{
 "cells": [
  {
   "cell_type": "markdown",
   "metadata": {},
   "source": [
    "# XG Boost classifier  For Breast Cancer Dataset"
   ]
  },
  {
   "cell_type": "code",
   "execution_count": 1,
   "metadata": {},
   "outputs": [],
   "source": [
    "import pandas as pd\n",
    "from sklearn import datasets\n",
    "import numpy as np\n",
    "from sklearn.model_selection import train_test_split\n",
    "from sklearn.model_selection import RandomizedSearchCV\n",
    "import xgboost\n",
    "import pickle"
   ]
  },
  {
   "cell_type": "code",
   "execution_count": 2,
   "metadata": {},
   "outputs": [],
   "source": [
    "df=datasets.load_breast_cancer()"
   ]
  },
  {
   "cell_type": "code",
   "execution_count": 3,
   "metadata": {},
   "outputs": [],
   "source": [
    "x=df.data\n",
    "y=df.target"
   ]
  },
  {
   "cell_type": "code",
   "execution_count": 4,
   "metadata": {},
   "outputs": [],
   "source": [
    "x_train,x_test,y_train,y_test=train_test_split(x,y,random_state=1)"
   ]
  },
  {
   "cell_type": "markdown",
   "metadata": {},
   "source": [
    "# Hyper Parameter Tuning For XGboost"
   ]
  },
  {
   "cell_type": "code",
   "execution_count": 5,
   "metadata": {},
   "outputs": [],
   "source": [
    "params={\"learning_rate\"    : [0.05, 0.10, 0.15, 0.20, 0.25, 0.30 ] ,\n",
    " \"max_depth\"        : [ 3, 4, 5, 6, 8, 10, 12, 15],\n",
    " \"min_child_weight\" : [ 1, 3, 5, 7 ],\n",
    " \"gamma\"            : [ 0.0, 0.1, 0.2 , 0.3, 0.4 ],\n",
    " \"colsample_bytree\" : [ 0.3, 0.4, 0.5 , 0.7 ] }"
   ]
  },
  {
   "cell_type": "code",
   "execution_count": 6,
   "metadata": {},
   "outputs": [],
   "source": [
    "clf=xgboost.XGBClassifier()"
   ]
  },
  {
   "cell_type": "code",
   "execution_count": 7,
   "metadata": {},
   "outputs": [],
   "source": [
    "model=RandomizedSearchCV(clf,param_distributions=params, n_iter=5,scoring='roc_auc',n_jobs=1,cv=5,verbose=3)"
   ]
  },
  {
   "cell_type": "code",
   "execution_count": 8,
   "metadata": {},
   "outputs": [
    {
     "name": "stdout",
     "output_type": "stream",
     "text": [
      "Fitting 5 folds for each of 5 candidates, totalling 25 fits\n",
      "[CV] min_child_weight=3, max_depth=3, learning_rate=0.2, gamma=0.2, colsample_bytree=0.5 \n",
      "[CV]  min_child_weight=3, max_depth=3, learning_rate=0.2, gamma=0.2, colsample_bytree=0.5, score=0.992, total=   0.1s\n",
      "[CV] min_child_weight=3, max_depth=3, learning_rate=0.2, gamma=0.2, colsample_bytree=0.5 \n",
      "[CV]  min_child_weight=3, max_depth=3, learning_rate=0.2, gamma=0.2, colsample_bytree=0.5, score=0.989, total=   0.0s\n",
      "[CV] min_child_weight=3, max_depth=3, learning_rate=0.2, gamma=0.2, colsample_bytree=0.5 \n",
      "[CV]  min_child_weight=3, max_depth=3, learning_rate=0.2, gamma=0.2, colsample_bytree=0.5, score=0.999, total=   0.0s\n",
      "[CV] min_child_weight=3, max_depth=3, learning_rate=0.2, gamma=0.2, colsample_bytree=0.5 \n",
      "[CV]  min_child_weight=3, max_depth=3, learning_rate=0.2, gamma=0.2, colsample_bytree=0.5, score=0.995, total=   0.0s\n",
      "[CV] min_child_weight=3, max_depth=3, learning_rate=0.2, gamma=0.2, colsample_bytree=0.5 \n",
      "[CV]  min_child_weight=3, max_depth=3, learning_rate=0.2, gamma=0.2, colsample_bytree=0.5, score=0.971, total=   0.0s"
     ]
    },
    {
     "name": "stderr",
     "output_type": "stream",
     "text": [
      "[Parallel(n_jobs=1)]: Using backend SequentialBackend with 1 concurrent workers.\n",
      "[Parallel(n_jobs=1)]: Done   1 out of   1 | elapsed:    0.0s remaining:    0.0s\n",
      "[Parallel(n_jobs=1)]: Done   2 out of   2 | elapsed:    0.0s remaining:    0.0s\n"
     ]
    },
    {
     "name": "stdout",
     "output_type": "stream",
     "text": [
      "\n",
      "[CV] min_child_weight=3, max_depth=10, learning_rate=0.05, gamma=0.3, colsample_bytree=0.3 \n",
      "[CV]  min_child_weight=3, max_depth=10, learning_rate=0.05, gamma=0.3, colsample_bytree=0.3, score=0.992, total=   0.1s\n",
      "[CV] min_child_weight=3, max_depth=10, learning_rate=0.05, gamma=0.3, colsample_bytree=0.3 \n",
      "[CV]  min_child_weight=3, max_depth=10, learning_rate=0.05, gamma=0.3, colsample_bytree=0.3, score=0.991, total=   0.0s\n",
      "[CV] min_child_weight=3, max_depth=10, learning_rate=0.05, gamma=0.3, colsample_bytree=0.3 \n",
      "[CV]  min_child_weight=3, max_depth=10, learning_rate=0.05, gamma=0.3, colsample_bytree=0.3, score=1.000, total=   0.0s\n",
      "[CV] min_child_weight=3, max_depth=10, learning_rate=0.05, gamma=0.3, colsample_bytree=0.3 \n",
      "[CV]  min_child_weight=3, max_depth=10, learning_rate=0.05, gamma=0.3, colsample_bytree=0.3, score=0.995, total=   0.1s\n",
      "[CV] min_child_weight=3, max_depth=10, learning_rate=0.05, gamma=0.3, colsample_bytree=0.3 \n",
      "[CV]  min_child_weight=3, max_depth=10, learning_rate=0.05, gamma=0.3, colsample_bytree=0.3, score=0.984, total=   0.0s\n",
      "[CV] min_child_weight=3, max_depth=8, learning_rate=0.1, gamma=0.3, colsample_bytree=0.4 \n",
      "[CV]  min_child_weight=3, max_depth=8, learning_rate=0.1, gamma=0.3, colsample_bytree=0.4, score=0.992, total=   0.0s\n",
      "[CV] min_child_weight=3, max_depth=8, learning_rate=0.1, gamma=0.3, colsample_bytree=0.4 \n",
      "[CV]  min_child_weight=3, max_depth=8, learning_rate=0.1, gamma=0.3, colsample_bytree=0.4, score=0.988, total=   0.0s\n",
      "[CV] min_child_weight=3, max_depth=8, learning_rate=0.1, gamma=0.3, colsample_bytree=0.4 \n",
      "[CV]  min_child_weight=3, max_depth=8, learning_rate=0.1, gamma=0.3, colsample_bytree=0.4, score=1.000, total=   0.0s\n",
      "[CV] min_child_weight=3, max_depth=8, learning_rate=0.1, gamma=0.3, colsample_bytree=0.4 \n",
      "[CV]  min_child_weight=3, max_depth=8, learning_rate=0.1, gamma=0.3, colsample_bytree=0.4, score=0.995, total=   0.0s\n",
      "[CV] min_child_weight=3, max_depth=8, learning_rate=0.1, gamma=0.3, colsample_bytree=0.4 \n",
      "[CV]  min_child_weight=3, max_depth=8, learning_rate=0.1, gamma=0.3, colsample_bytree=0.4, score=0.979, total=   0.0s\n",
      "[CV] min_child_weight=5, max_depth=4, learning_rate=0.15, gamma=0.2, colsample_bytree=0.5 \n",
      "[CV]  min_child_weight=5, max_depth=4, learning_rate=0.15, gamma=0.2, colsample_bytree=0.5, score=0.989, total=   0.0s\n",
      "[CV] min_child_weight=5, max_depth=4, learning_rate=0.15, gamma=0.2, colsample_bytree=0.5 \n",
      "[CV]  min_child_weight=5, max_depth=4, learning_rate=0.15, gamma=0.2, colsample_bytree=0.5, score=0.989, total=   0.0s\n",
      "[CV] min_child_weight=5, max_depth=4, learning_rate=0.15, gamma=0.2, colsample_bytree=0.5 \n",
      "[CV]  min_child_weight=5, max_depth=4, learning_rate=0.15, gamma=0.2, colsample_bytree=0.5, score=0.999, total=   0.0s\n",
      "[CV] min_child_weight=5, max_depth=4, learning_rate=0.15, gamma=0.2, colsample_bytree=0.5 \n",
      "[CV]  min_child_weight=5, max_depth=4, learning_rate=0.15, gamma=0.2, colsample_bytree=0.5, score=0.995, total=   0.0s\n",
      "[CV] min_child_weight=5, max_depth=4, learning_rate=0.15, gamma=0.2, colsample_bytree=0.5 \n",
      "[CV]  min_child_weight=5, max_depth=4, learning_rate=0.15, gamma=0.2, colsample_bytree=0.5, score=0.980, total=   0.0s\n",
      "[CV] min_child_weight=1, max_depth=4, learning_rate=0.05, gamma=0.3, colsample_bytree=0.7 \n",
      "[CV]  min_child_weight=1, max_depth=4, learning_rate=0.05, gamma=0.3, colsample_bytree=0.7, score=0.990, total=   0.1s\n",
      "[CV] min_child_weight=1, max_depth=4, learning_rate=0.05, gamma=0.3, colsample_bytree=0.7 \n",
      "[CV]  min_child_weight=1, max_depth=4, learning_rate=0.05, gamma=0.3, colsample_bytree=0.7, score=0.990, total=   0.1s\n",
      "[CV] min_child_weight=1, max_depth=4, learning_rate=0.05, gamma=0.3, colsample_bytree=0.7 \n",
      "[CV]  min_child_weight=1, max_depth=4, learning_rate=0.05, gamma=0.3, colsample_bytree=0.7, score=0.999, total=   0.1s\n",
      "[CV] min_child_weight=1, max_depth=4, learning_rate=0.05, gamma=0.3, colsample_bytree=0.7 \n",
      "[CV]  min_child_weight=1, max_depth=4, learning_rate=0.05, gamma=0.3, colsample_bytree=0.7, score=0.996, total=   0.1s\n",
      "[CV] min_child_weight=1, max_depth=4, learning_rate=0.05, gamma=0.3, colsample_bytree=0.7 \n",
      "[CV]  min_child_weight=1, max_depth=4, learning_rate=0.05, gamma=0.3, colsample_bytree=0.7, score=0.990, total=   0.1s\n"
     ]
    },
    {
     "name": "stderr",
     "output_type": "stream",
     "text": [
      "[Parallel(n_jobs=1)]: Done  25 out of  25 | elapsed:    1.1s finished\n"
     ]
    },
    {
     "data": {
      "text/plain": [
       "RandomizedSearchCV(cv=5,\n",
       "                   estimator=XGBClassifier(base_score=None, booster=None,\n",
       "                                           colsample_bylevel=None,\n",
       "                                           colsample_bynode=None,\n",
       "                                           colsample_bytree=None, gamma=None,\n",
       "                                           gpu_id=None, importance_type='gain',\n",
       "                                           interaction_constraints=None,\n",
       "                                           learning_rate=None,\n",
       "                                           max_delta_step=None, max_depth=None,\n",
       "                                           min_child_weight=None, missing=nan,\n",
       "                                           monotone_constraints=None,\n",
       "                                           n_estimators=100,...\n",
       "                                           reg_lambda=None,\n",
       "                                           scale_pos_weight=None,\n",
       "                                           subsample=None, tree_method=None,\n",
       "                                           validate_parameters=None,\n",
       "                                           verbosity=None),\n",
       "                   n_iter=5, n_jobs=1,\n",
       "                   param_distributions={'colsample_bytree': [0.3, 0.4, 0.5,\n",
       "                                                             0.7],\n",
       "                                        'gamma': [0.0, 0.1, 0.2, 0.3, 0.4],\n",
       "                                        'learning_rate': [0.05, 0.1, 0.15, 0.2,\n",
       "                                                          0.25, 0.3],\n",
       "                                        'max_depth': [3, 4, 5, 6, 8, 10, 12,\n",
       "                                                      15],\n",
       "                                        'min_child_weight': [1, 3, 5, 7]},\n",
       "                   scoring='roc_auc', verbose=3)"
      ]
     },
     "execution_count": 8,
     "metadata": {},
     "output_type": "execute_result"
    }
   ],
   "source": [
    "model.fit(x_train,y_train)"
   ]
  },
  {
   "cell_type": "code",
   "execution_count": 9,
   "metadata": {},
   "outputs": [
    {
     "data": {
      "text/plain": [
       "XGBClassifier(base_score=0.5, booster='gbtree', colsample_bylevel=1,\n",
       "              colsample_bynode=1, colsample_bytree=0.7, gamma=0.3, gpu_id=-1,\n",
       "              importance_type='gain', interaction_constraints='',\n",
       "              learning_rate=0.05, max_delta_step=0, max_depth=4,\n",
       "              min_child_weight=1, missing=nan, monotone_constraints='()',\n",
       "              n_estimators=100, n_jobs=0, num_parallel_tree=1, random_state=0,\n",
       "              reg_alpha=0, reg_lambda=1, scale_pos_weight=1, subsample=1,\n",
       "              tree_method='exact', validate_parameters=1, verbosity=None)"
      ]
     },
     "execution_count": 9,
     "metadata": {},
     "output_type": "execute_result"
    }
   ],
   "source": [
    "model.best_estimator_"
   ]
  },
  {
   "cell_type": "code",
   "execution_count": 10,
   "metadata": {},
   "outputs": [
    {
     "data": {
      "text/plain": [
       "{'min_child_weight': 1,\n",
       " 'max_depth': 4,\n",
       " 'learning_rate': 0.05,\n",
       " 'gamma': 0.3,\n",
       " 'colsample_bytree': 0.7}"
      ]
     },
     "execution_count": 10,
     "metadata": {},
     "output_type": "execute_result"
    }
   ],
   "source": [
    "model.best_params_"
   ]
  },
  {
   "cell_type": "code",
   "execution_count": 11,
   "metadata": {},
   "outputs": [
    {
     "data": {
      "text/plain": [
       "0.9929213582876851"
      ]
     },
     "execution_count": 11,
     "metadata": {},
     "output_type": "execute_result"
    }
   ],
   "source": [
    "model.best_score_"
   ]
  },
  {
   "cell_type": "code",
   "execution_count": 14,
   "metadata": {},
   "outputs": [],
   "source": [
    "classifire=xgboost.XGBClassifier(base_score=0.5, booster='gbtree', colsample_bylevel=1,\n",
    "              colsample_bynode=1, colsample_bytree=0.7, gamma=0.3, gpu_id=-1,\n",
    "              importance_type='gain', interaction_constraints='',\n",
    "              learning_rate=0.05, max_delta_step=0, max_depth=4,\n",
    "              min_child_weight=1, missing=None, monotone_constraints='()',\n",
    "              n_estimators=100, n_jobs=0, num_parallel_tree=1, random_state=0,\n",
    "              reg_alpha=0, reg_lambda=1, scale_pos_weight=1, subsample=1,\n",
    "              tree_method='exact', validate_parameters=1, verbosity=None)"
   ]
  }
 ],
 "metadata": {
  "kernelspec": {
   "display_name": "Python 3",
   "language": "python",
   "name": "python3"
  },
  "language_info": {
   "codemirror_mode": {
    "name": "ipython",
    "version": 3
   },
   "file_extension": ".py",
   "mimetype": "text/x-python",
   "name": "python",
   "nbconvert_exporter": "python",
   "pygments_lexer": "ipython3",
   "version": "3.8.3"
  }
 },
 "nbformat": 4,
 "nbformat_minor": 4
}
